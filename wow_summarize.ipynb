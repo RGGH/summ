{
 "cells": [
  {
   "cell_type": "markdown",
   "id": "4acdaedc-a493-4196-a59c-82d0f81632e1",
   "metadata": {},
   "source": [
    "# Summarization on Arxiv documents 🤗"
   ]
  },
  {
   "cell_type": "code",
   "execution_count": 168,
   "id": "fb466f77-3f07-4bfd-92d2-c59f60a62966",
   "metadata": {},
   "outputs": [],
   "source": [
    "#!pip install arxiv"
   ]
  },
  {
   "cell_type": "code",
   "execution_count": 169,
   "id": "38ea810f-97c0-4410-b9b2-364183f392ad",
   "metadata": {},
   "outputs": [],
   "source": [
    "import pandas as pd\n",
    "import arxiv"
   ]
  },
  {
   "cell_type": "code",
   "execution_count": 170,
   "id": "350f75b1-ae0f-440f-b3f2-23e661ad4c8d",
   "metadata": {},
   "outputs": [],
   "source": [
    "query = \"Bitcoin\"\n",
    "client = arxiv.Client()\n",
    "search = arxiv.Search(query=query, max_results=10, sort_by=arxiv.SortCriterion.SubmittedDate)\n",
    "results = client.results(search)"
   ]
  },
  {
   "cell_type": "code",
   "execution_count": 171,
   "id": "441bf7b3-c40f-425a-8135-9b38f2a1b7a5",
   "metadata": {},
   "outputs": [],
   "source": [
    "papers = []\n",
    "for result in results:\n",
    "    papers.append(\n",
    "        {\n",
    "            'published':result.published,\n",
    "            'title':result.title,\n",
    "            'abstract' : result.summary,\n",
    "            'categories':result.categories\n",
    "        }\n",
    "    ) "
   ]
  },
  {
   "cell_type": "code",
   "execution_count": 172,
   "id": "2c62d207-f668-4ea0-a91f-53c3a32634cd",
   "metadata": {},
   "outputs": [
    {
     "data": {
      "text/html": [
       "<div>\n",
       "<style scoped>\n",
       "    .dataframe tbody tr th:only-of-type {\n",
       "        vertical-align: middle;\n",
       "    }\n",
       "\n",
       "    .dataframe tbody tr th {\n",
       "        vertical-align: top;\n",
       "    }\n",
       "\n",
       "    .dataframe thead th {\n",
       "        text-align: right;\n",
       "    }\n",
       "</style>\n",
       "<table border=\"1\" class=\"dataframe\">\n",
       "  <thead>\n",
       "    <tr style=\"text-align: right;\">\n",
       "      <th></th>\n",
       "      <th>published</th>\n",
       "      <th>title</th>\n",
       "      <th>abstract</th>\n",
       "      <th>categories</th>\n",
       "    </tr>\n",
       "  </thead>\n",
       "  <tbody>\n",
       "    <tr>\n",
       "      <th>0</th>\n",
       "      <td>2024-09-05 16:27:16+00:00</td>\n",
       "      <td>Practical Forecasting of Cryptocoins Timeseries using Correlation Patterns</td>\n",
       "      <td>Cryptocoins (i.e., Bitcoin, Ether, Litecoin) are tradable digital assets.\\nOwnerships of cryptocoins are registered on distributed ledgers (i.e.,\\nblockchains). Secure encryption techniques guarantee the security of the\\ntransactions (transfers of coins among owners), registered into the ledger.\\nCryptocoins are exchanged for specific trading prices. The extreme volatility\\nof such trading prices across all different sets of crypto-assets remains\\nundisputed. However, the relations between the trading prices across different\\ncryptocoins remains largely unexplored. Major coin exchanges indicate trend\\ncorrelation to advise for sells or buys. However, price correlations remain\\nlargely unexplored. We shed some light on the trend correlations across a large\\nvariety of cryptocoins, by investigating their coin/price correlation trends\\nover the past two years. We study the causality between the trends, and exploit\\nthe derived correlations to understand the accuracy of state-of-the-art\\nforecasting techniques for time series modeling (e.g., GBMs, LSTM and GRU) of\\ncorrelated cryptocoins. Our evaluation shows (i) strong correlation patterns\\nbetween the most traded coins (e.g., Bitcoin and Ether) and other types of\\ncryptocurrencies, and (ii) state-of-the-art time series forecasting algorithms\\ncan be used to forecast cryptocoins price trends. We released datasets and code\\nto reproduce our analysis to the research community.</td>\n",
       "      <td>[cs.CE, cs.LG]</td>\n",
       "    </tr>\n",
       "    <tr>\n",
       "      <th>1</th>\n",
       "      <td>2024-09-04 12:26:33+00:00</td>\n",
       "      <td>SoK: Bitcoin Layer Two (L2)</td>\n",
       "      <td>We present the first Systematization of Knowledge (SoK) on constructing Layer\\nTwo (L2) solutions for Bitcoin.\\n  We carefully examine a representative subset of ongoing Bitcoin L2 solutions\\n(40 out of 335 extensively investigated cases) and provide a concise yet\\nimpactful identification of six classic design patterns through two approaches\\n(i.e., modifying transactions \\&amp; creating proofs). Notably, we are the first to\\nincorporate the inscription technology (emerged in mid-2023), along with a\\nseries of related innovations. We further establish a reference framework that\\nserves as a baseline criterion ideally suited for evaluating the security\\naspects of Bitcoin L2 solutions, and which can also be extended to broader L2\\napplications. We apply this framework to evaluate each of the projects we\\ninvestigated.\\n  We find that the inscription-based approaches introduce new functionality\\n(i.e., programability) to Bitcoin systems, whereas existing proof-based\\nsolutions primarily address scalability challenges. Our security analysis\\nreveals new attack vectors targeting data/state (availability, verification),\\nassets (withdrawal, recovery), and users (disputes, censorship).</td>\n",
       "      <td>[cs.CR, cs.ET]</td>\n",
       "    </tr>\n",
       "    <tr>\n",
       "      <th>2</th>\n",
       "      <td>2024-09-01 21:14:49+00:00</td>\n",
       "      <td>Global Public Sentiment on Decentralized Finance: A Spatiotemporal Analysis of Geo-tagged Tweets from 150 Countries</td>\n",
       "      <td>In the digital era, blockchain technology, cryptocurrencies, and non-fungible\\ntokens (NFTs) have transformed financial and decentralized systems. However,\\nexisting research often neglects the spatiotemporal variations in public\\nsentiment toward these technologies, limiting macro-level insights into their\\nglobal impact. This study leverages Twitter data to explore public attention\\nand sentiment across 150 countries, analyzing over 150 million geotagged tweets\\nfrom 2012 to 2022. Sentiment scores were derived using a BERT-based\\nmultilingual sentiment model trained on 7.4 billion tweets. The analysis\\nintegrates global cryptocurrency regulations and economic indicators from the\\nWorld Development Indicators database. Results reveal significant global\\nsentiment variations influenced by economic factors, with more developed\\nnations engaging more in discussions, while less developed countries show\\nhigher sentiment levels. Geographically weighted regression indicates that\\nGDP-tweet engagement correlation intensifies following Bitcoin price surges.\\nTopic modeling shows that countries within similar economic clusters share\\ndiscussion trends, while different clusters focus on distinct topics. This\\nstudy highlights global disparities in sentiment toward decentralized finance,\\nshaped by economic and regional factors, with implications for poverty\\nalleviation, cryptocurrency crime, and sustainable development. The dataset and\\ncode are publicly available on GitHub.</td>\n",
       "      <td>[econ.GN, cs.CE, cs.CY, q-fin.CP, q-fin.EC, stat.ML]</td>\n",
       "    </tr>\n",
       "    <tr>\n",
       "      <th>3</th>\n",
       "      <td>2024-08-30 21:57:31+00:00</td>\n",
       "      <td>Bitcoin ETF: Opportunities and risk</td>\n",
       "      <td>The year 2024 witnessed a major development in the cryptocurrency industry\\nwith the long-awaited approval of spot Bitcoin exchange-traded funds (ETFs).\\nThis innovation provides investors with a new, regulated path to gain exposure\\nto Bitcoin through a familiar investment vehicle (Kumar et al., 2024). However,\\nunlike traditional ETFs that directly hold underlying assets, Bitcoin ETFs rely\\non a creation and redemption process managed by authorized participants (APs).\\nThis unique structure introduces distinct characteristics in terms of\\npremium/discount behavior compared to traditional ETFs. This paper investigates\\nthe premium and discount patterns observed in Bitcoin ETFs during first\\nfour-month period (January 11th, 2024, to May 17th, 2024). Our analysis reveals\\nthat these patterns differ significantly from those observed in traditional\\nindex ETFs, potentially exposing investors to additional risk factors. By\\nidentifying and analyzing these risk factors associated with Bitcoin ETF\\npremiums/discounts, this paper aims to achieve two key objectives: Enhance\\nmarket understanding: Equip and market and investors with a deeper\\ncomprehension of the unique liquidity risks inherent in Bitcoin ETFs. Provide a\\nclearer risk management frameworks: Offer a clearer perspective on the\\nrisk-return profile of digital asset ETFs, specifically focusing on Bitcoin\\nETFs. Through a thorough analysis of premium/discount behavior and the\\nunderlying factors contributing to it, this paper strives to contribute\\nvaluable insights for investors navigating the evolving landscape of digital\\nasset investments</td>\n",
       "      <td>[q-fin.TR]</td>\n",
       "    </tr>\n",
       "    <tr>\n",
       "      <th>4</th>\n",
       "      <td>2024-08-30 12:11:30+00:00</td>\n",
       "      <td>A Framework for Digital Asset Risks with Insurance Applications</td>\n",
       "      <td>The remarkable growth of digital assets, starting from the inception of\\nBitcoin in 2009 into a 1 trillion market in 2024, underscores the momentum\\nbehind disruptive technologies and the global appetite for digital assets. This\\npaper develops a framework to enhance actuaries' understanding of the cyber\\nrisks associated with the developing digital asset ecosystem, as well as their\\nmeasurement methods in the context of digital asset insurance. By integrating\\nactuarial perspectives, we aim to enhance understanding and modeling of cyber\\nrisks at both the micro and systemic levels. The qualitative examination sheds\\nlight on blockchain technology and its associated risks, while our quantitative\\nframework offers a rigorous approach to modeling cyber risks in digital asset\\ninsurance portfolios. This multifaceted approach serves three primary\\nobjectives: i) offer a clear and accessible education on the evolving digital\\nasset ecosystem and the diverse spectrum of cyber risks it entails; ii) develop\\na scientifically rigorous framework for quantifying cyber risks in the digital\\nasset ecosystem; iii) provide practical applications, including pricing\\nstrategies and tail risk management. Particularly, we develop\\nfrequency-severity models based on real loss data for pricing cyber risks in\\ndigit assets and utilize Monte Carlo simulation to estimate the tail risks,\\noffering practical insights for risk management strategies. As digital assets\\ncontinue to reshape finance, our work serves as a foundational step towards\\nsafeguarding the integrity and stability of this rapidly evolving landscape.</td>\n",
       "      <td>[stat.AP, cs.CE]</td>\n",
       "    </tr>\n",
       "    <tr>\n",
       "      <th>5</th>\n",
       "      <td>2024-08-26 09:48:45+00:00</td>\n",
       "      <td>ORBITAAL: A Temporal Graph Dataset of Bitcoin Entity-Entity Transactions</td>\n",
       "      <td>Research on Bitcoin (BTC) transactions is a matter of interest for both\\neconomic and network science fields. Although this cryptocurrency is based on a\\ndecentralized system, making transaction details freely accessible, making raw\\nblockchain data analyzable is not straightforward due to the Bitcoin protocol\\nspecificity and data richness. To address the need for an accessible dataset,\\nwe present ORBITAAL, the first comprehensive dataset based on temporal graph\\nformalism. The dataset covers all Bitcoin transactions from January 2009 to\\nJanuary 2021. ORBITAAL provides temporal graph representations of entity-entity\\ntransaction networks, snapshots and stream graph. Each transaction value is\\ngiven in Bitcoin and US dollar regarding daily-based conversion rate. This\\ndataset also provides details on entities such as their global BTC balance and\\nassociated public addresses.</td>\n",
       "      <td>[cs.SI, cs.CR, cs.DM, math.DS, physics.soc-ph]</td>\n",
       "    </tr>\n",
       "    <tr>\n",
       "      <th>6</th>\n",
       "      <td>2024-08-22 08:39:09+00:00</td>\n",
       "      <td>Enhancing Causal Discovery in Financial Networks with Piecewise Quantile Regression</td>\n",
       "      <td>Financial networks can be constructed using statistical dependencies found\\nwithin the price series of speculative assets. Across the various methods used\\nto infer these networks, there is a general reliance on predictive modelling to\\ncapture cross-correlation effects. These methods usually model the flow of\\nmean-response information, or the propagation of volatility and risk within the\\nmarket. Such techniques, though insightful, don't fully capture the broader\\ndistribution-level causality that is possible within speculative markets. This\\npaper introduces a novel approach, combining quantile regression with a\\npiecewise linear embedding scheme - allowing us to construct causality networks\\nthat identify the complex tail interactions inherent to financial markets.\\nApplying this method to 260 cryptocurrency return series, we uncover\\nsignificant tail-tail causal effects and substantial causal asymmetry. We\\nidentify a propensity for coins to be self-influencing, with comparatively\\nsparse cross variable effects. Assessing all link types in conjunction, Bitcoin\\nstands out as the primary influencer - a nuance that is missed in conventional\\nlinear mean-response analyses. Our findings introduce a comprehensive framework\\nfor modelling distributional causality, paving the way towards more holistic\\nrepresentations of causality in financial markets.</td>\n",
       "      <td>[q-fin.ST, econ.EM, physics.soc-ph]</td>\n",
       "    </tr>\n",
       "    <tr>\n",
       "      <th>7</th>\n",
       "      <td>2024-08-06 06:10:52+00:00</td>\n",
       "      <td>Comparative analysis of stationarity for Bitcoin and the S&amp;P500</td>\n",
       "      <td>This paper compares and contrasts stationarity between the conventional stock\\nmarket and cryptocurrency. The dataset used for the analysis is the intraday\\nprice indices of the S&amp;P500 from 1996 to 2023 and the intraday Bitcoin indices\\nfrom 2019 to 2023, both in USD. We adopt the definition of `wide sense\\nstationary', which constrains the time independence of the first and second\\nmoments of a time series. The testing method used in this paper follows the\\nWiener-Khinchin Theorem, i.e., that for a wide sense stationary process, the\\npower spectral density and the autocorrelation are a Fourier transform pair. We\\ndemonstrate that localized stationarity can be achieved by truncating the time\\nseries into segments, and for each segment, detrending and normalizing the\\nprice return are required. These results show that the S&amp;P500 price return can\\nachieve stationarity for the full 28-year period with a detrending window of 12\\nmonths and a constrained normalization window of 10 minutes. With truncated\\nsegments, a larger normalization window can be used to establish stationarity,\\nindicating that within the segment the data is more homogeneous. For Bitcoin\\nprice return, the segment with higher volatility presents stationarity with a\\nnormalization window of 60 minutes, whereas stationarity cannot be established\\nin other segments.</td>\n",
       "      <td>[q-fin.ST, cond-mat.stat-mech]</td>\n",
       "    </tr>\n",
       "    <tr>\n",
       "      <th>8</th>\n",
       "      <td>2024-08-04 01:39:06+00:00</td>\n",
       "      <td>Remote Staking with Economic Safety</td>\n",
       "      <td>Proof-of-stake (PoS) blockchains require validators to lock their tokens as\\ncollateral, slashing these tokens if they are identified as protocol violators.\\nPoS chains have mostly been secured by their native tokens. However, using only\\nthe native token upper-bounds the value eligible for staking by the market\\ncapitalization of the native token. In contrast, the remote staking of another\\ncrypto asset from a provider chain provides an avenue to improve the consumer\\nchain's economic security. In this paper, we present the first known remote\\nstaking protocols with guaranteed optimal economic safety: whenever there is a\\nsafety violation on the consumer chain, at least one third of the provider's\\nstake securing the consumer chain is slashed. To achieve this goal for a broad\\nrange of provider and consumer chains, two independent contributions are made:\\n1) a remote unbonding protocol that ensures slashing before the stake is\\nunbonded on the provider chain if there is safety violation on the consumer\\nchain; 2) a protocol to slash stake even without smart contracts on the\\nprovider chain. The remote staking protocol is analyzed and implemented in the\\ncase where the provider chain is Bitcoin and the consumer chain is a Cosmos SDK\\nchain running the Tendermint consensus protocol.</td>\n",
       "      <td>[cs.CR]</td>\n",
       "    </tr>\n",
       "    <tr>\n",
       "      <th>9</th>\n",
       "      <td>2024-07-29 12:07:08+00:00</td>\n",
       "      <td>Testing for the Asymmetric Optimal Hedge Ratios: With an Application to Bitcoin</td>\n",
       "      <td>Reducing financial risk is of paramount importance to investors, financial\\ninstitutions, and corporations. Since the pioneering contribution of Johnson\\n(1960), the optimal hedge ratio based on futures is regularly utilized. The\\ncurrent paper suggests an explicit and efficient method for testing the null\\nhypothesis of a symmetric optimal hedge ratio against an asymmetric alternative\\none within a multivariate setting. If the null is rejected, the position\\ndependent optimal hedge ratios can be estimated via the suggested model. This\\napproach is expected to enhance the accuracy of the implemented hedging\\nstrategies compared to the standard methods since it accounts for the fact that\\nthe source of risk depends on whether the investor is a buyer or a seller of\\nthe risky asset. An application is provided using spot and futures prices of\\nBitcoin. The results strongly support the view that the optimal hedge ratio for\\nthis cryptocurrency is position dependent. The investor that is long in Bitcoin\\nhas a much higher conditional optimal hedge ratio compared to the one that is\\nshort in the asset. The difference between the two conditional optimal hedge\\nratios is statistically significant, which has important repercussions for\\nimplementing risk management strategies.</td>\n",
       "      <td>[q-fin.RM, econ.EM]</td>\n",
       "    </tr>\n",
       "  </tbody>\n",
       "</table>\n",
       "</div>"
      ],
      "text/plain": [
       "                  published  \\\n",
       "0 2024-09-05 16:27:16+00:00   \n",
       "1 2024-09-04 12:26:33+00:00   \n",
       "2 2024-09-01 21:14:49+00:00   \n",
       "3 2024-08-30 21:57:31+00:00   \n",
       "4 2024-08-30 12:11:30+00:00   \n",
       "5 2024-08-26 09:48:45+00:00   \n",
       "6 2024-08-22 08:39:09+00:00   \n",
       "7 2024-08-06 06:10:52+00:00   \n",
       "8 2024-08-04 01:39:06+00:00   \n",
       "9 2024-07-29 12:07:08+00:00   \n",
       "\n",
       "                                                                                                                 title  \\\n",
       "0                                           Practical Forecasting of Cryptocoins Timeseries using Correlation Patterns   \n",
       "1                                                                                          SoK: Bitcoin Layer Two (L2)   \n",
       "2  Global Public Sentiment on Decentralized Finance: A Spatiotemporal Analysis of Geo-tagged Tweets from 150 Countries   \n",
       "3                                                                                  Bitcoin ETF: Opportunities and risk   \n",
       "4                                                      A Framework for Digital Asset Risks with Insurance Applications   \n",
       "5                                             ORBITAAL: A Temporal Graph Dataset of Bitcoin Entity-Entity Transactions   \n",
       "6                                  Enhancing Causal Discovery in Financial Networks with Piecewise Quantile Regression   \n",
       "7                                                      Comparative analysis of stationarity for Bitcoin and the S&P500   \n",
       "8                                                                                  Remote Staking with Economic Safety   \n",
       "9                                      Testing for the Asymmetric Optimal Hedge Ratios: With an Application to Bitcoin   \n",
       "\n",
       "                                                                                                                                                                                                                                                                                                                                                                                                                                                                                                                                                                                                                                                                                                                                                                                                                                                                                                                                                                                                                                                                                                                                                                                                                                                                                                                                                                                                                                                                                                                                                                                                                                                                                 abstract  \\\n",
       "0                                                                                                                                                                                   Cryptocoins (i.e., Bitcoin, Ether, Litecoin) are tradable digital assets.\\nOwnerships of cryptocoins are registered on distributed ledgers (i.e.,\\nblockchains). Secure encryption techniques guarantee the security of the\\ntransactions (transfers of coins among owners), registered into the ledger.\\nCryptocoins are exchanged for specific trading prices. The extreme volatility\\nof such trading prices across all different sets of crypto-assets remains\\nundisputed. However, the relations between the trading prices across different\\ncryptocoins remains largely unexplored. Major coin exchanges indicate trend\\ncorrelation to advise for sells or buys. However, price correlations remain\\nlargely unexplored. We shed some light on the trend correlations across a large\\nvariety of cryptocoins, by investigating their coin/price correlation trends\\nover the past two years. We study the causality between the trends, and exploit\\nthe derived correlations to understand the accuracy of state-of-the-art\\nforecasting techniques for time series modeling (e.g., GBMs, LSTM and GRU) of\\ncorrelated cryptocoins. Our evaluation shows (i) strong correlation patterns\\nbetween the most traded coins (e.g., Bitcoin and Ether) and other types of\\ncryptocurrencies, and (ii) state-of-the-art time series forecasting algorithms\\ncan be used to forecast cryptocoins price trends. We released datasets and code\\nto reproduce our analysis to the research community.   \n",
       "1                                                                                                                                                                                                                                                                                                                                                                                                                                             We present the first Systematization of Knowledge (SoK) on constructing Layer\\nTwo (L2) solutions for Bitcoin.\\n  We carefully examine a representative subset of ongoing Bitcoin L2 solutions\\n(40 out of 335 extensively investigated cases) and provide a concise yet\\nimpactful identification of six classic design patterns through two approaches\\n(i.e., modifying transactions \\& creating proofs). Notably, we are the first to\\nincorporate the inscription technology (emerged in mid-2023), along with a\\nseries of related innovations. We further establish a reference framework that\\nserves as a baseline criterion ideally suited for evaluating the security\\naspects of Bitcoin L2 solutions, and which can also be extended to broader L2\\napplications. We apply this framework to evaluate each of the projects we\\ninvestigated.\\n  We find that the inscription-based approaches introduce new functionality\\n(i.e., programability) to Bitcoin systems, whereas existing proof-based\\nsolutions primarily address scalability challenges. Our security analysis\\nreveals new attack vectors targeting data/state (availability, verification),\\nassets (withdrawal, recovery), and users (disputes, censorship).   \n",
       "2                                                                                                                                     In the digital era, blockchain technology, cryptocurrencies, and non-fungible\\ntokens (NFTs) have transformed financial and decentralized systems. However,\\nexisting research often neglects the spatiotemporal variations in public\\nsentiment toward these technologies, limiting macro-level insights into their\\nglobal impact. This study leverages Twitter data to explore public attention\\nand sentiment across 150 countries, analyzing over 150 million geotagged tweets\\nfrom 2012 to 2022. Sentiment scores were derived using a BERT-based\\nmultilingual sentiment model trained on 7.4 billion tweets. The analysis\\nintegrates global cryptocurrency regulations and economic indicators from the\\nWorld Development Indicators database. Results reveal significant global\\nsentiment variations influenced by economic factors, with more developed\\nnations engaging more in discussions, while less developed countries show\\nhigher sentiment levels. Geographically weighted regression indicates that\\nGDP-tweet engagement correlation intensifies following Bitcoin price surges.\\nTopic modeling shows that countries within similar economic clusters share\\ndiscussion trends, while different clusters focus on distinct topics. This\\nstudy highlights global disparities in sentiment toward decentralized finance,\\nshaped by economic and regional factors, with implications for poverty\\nalleviation, cryptocurrency crime, and sustainable development. The dataset and\\ncode are publicly available on GitHub.   \n",
       "3  The year 2024 witnessed a major development in the cryptocurrency industry\\nwith the long-awaited approval of spot Bitcoin exchange-traded funds (ETFs).\\nThis innovation provides investors with a new, regulated path to gain exposure\\nto Bitcoin through a familiar investment vehicle (Kumar et al., 2024). However,\\nunlike traditional ETFs that directly hold underlying assets, Bitcoin ETFs rely\\non a creation and redemption process managed by authorized participants (APs).\\nThis unique structure introduces distinct characteristics in terms of\\npremium/discount behavior compared to traditional ETFs. This paper investigates\\nthe premium and discount patterns observed in Bitcoin ETFs during first\\nfour-month period (January 11th, 2024, to May 17th, 2024). Our analysis reveals\\nthat these patterns differ significantly from those observed in traditional\\nindex ETFs, potentially exposing investors to additional risk factors. By\\nidentifying and analyzing these risk factors associated with Bitcoin ETF\\npremiums/discounts, this paper aims to achieve two key objectives: Enhance\\nmarket understanding: Equip and market and investors with a deeper\\ncomprehension of the unique liquidity risks inherent in Bitcoin ETFs. Provide a\\nclearer risk management frameworks: Offer a clearer perspective on the\\nrisk-return profile of digital asset ETFs, specifically focusing on Bitcoin\\nETFs. Through a thorough analysis of premium/discount behavior and the\\nunderlying factors contributing to it, this paper strives to contribute\\nvaluable insights for investors navigating the evolving landscape of digital\\nasset investments   \n",
       "4     The remarkable growth of digital assets, starting from the inception of\\nBitcoin in 2009 into a 1 trillion market in 2024, underscores the momentum\\nbehind disruptive technologies and the global appetite for digital assets. This\\npaper develops a framework to enhance actuaries' understanding of the cyber\\nrisks associated with the developing digital asset ecosystem, as well as their\\nmeasurement methods in the context of digital asset insurance. By integrating\\nactuarial perspectives, we aim to enhance understanding and modeling of cyber\\nrisks at both the micro and systemic levels. The qualitative examination sheds\\nlight on blockchain technology and its associated risks, while our quantitative\\nframework offers a rigorous approach to modeling cyber risks in digital asset\\ninsurance portfolios. This multifaceted approach serves three primary\\nobjectives: i) offer a clear and accessible education on the evolving digital\\nasset ecosystem and the diverse spectrum of cyber risks it entails; ii) develop\\na scientifically rigorous framework for quantifying cyber risks in the digital\\nasset ecosystem; iii) provide practical applications, including pricing\\nstrategies and tail risk management. Particularly, we develop\\nfrequency-severity models based on real loss data for pricing cyber risks in\\ndigit assets and utilize Monte Carlo simulation to estimate the tail risks,\\noffering practical insights for risk management strategies. As digital assets\\ncontinue to reshape finance, our work serves as a foundational step towards\\nsafeguarding the integrity and stability of this rapidly evolving landscape.   \n",
       "5                                                                                                                                                                                                                                                                                                                                                                                                                                                                                                                                                                                                                                                                                                                                                               Research on Bitcoin (BTC) transactions is a matter of interest for both\\neconomic and network science fields. Although this cryptocurrency is based on a\\ndecentralized system, making transaction details freely accessible, making raw\\nblockchain data analyzable is not straightforward due to the Bitcoin protocol\\nspecificity and data richness. To address the need for an accessible dataset,\\nwe present ORBITAAL, the first comprehensive dataset based on temporal graph\\nformalism. The dataset covers all Bitcoin transactions from January 2009 to\\nJanuary 2021. ORBITAAL provides temporal graph representations of entity-entity\\ntransaction networks, snapshots and stream graph. Each transaction value is\\ngiven in Bitcoin and US dollar regarding daily-based conversion rate. This\\ndataset also provides details on entities such as their global BTC balance and\\nassociated public addresses.   \n",
       "6                                                                                                                                                                                                                                                            Financial networks can be constructed using statistical dependencies found\\nwithin the price series of speculative assets. Across the various methods used\\nto infer these networks, there is a general reliance on predictive modelling to\\ncapture cross-correlation effects. These methods usually model the flow of\\nmean-response information, or the propagation of volatility and risk within the\\nmarket. Such techniques, though insightful, don't fully capture the broader\\ndistribution-level causality that is possible within speculative markets. This\\npaper introduces a novel approach, combining quantile regression with a\\npiecewise linear embedding scheme - allowing us to construct causality networks\\nthat identify the complex tail interactions inherent to financial markets.\\nApplying this method to 260 cryptocurrency return series, we uncover\\nsignificant tail-tail causal effects and substantial causal asymmetry. We\\nidentify a propensity for coins to be self-influencing, with comparatively\\nsparse cross variable effects. Assessing all link types in conjunction, Bitcoin\\nstands out as the primary influencer - a nuance that is missed in conventional\\nlinear mean-response analyses. Our findings introduce a comprehensive framework\\nfor modelling distributional causality, paving the way towards more holistic\\nrepresentations of causality in financial markets.   \n",
       "7                                                                                                                                                                                                                                                                                 This paper compares and contrasts stationarity between the conventional stock\\nmarket and cryptocurrency. The dataset used for the analysis is the intraday\\nprice indices of the S&P500 from 1996 to 2023 and the intraday Bitcoin indices\\nfrom 2019 to 2023, both in USD. We adopt the definition of `wide sense\\nstationary', which constrains the time independence of the first and second\\nmoments of a time series. The testing method used in this paper follows the\\nWiener-Khinchin Theorem, i.e., that for a wide sense stationary process, the\\npower spectral density and the autocorrelation are a Fourier transform pair. We\\ndemonstrate that localized stationarity can be achieved by truncating the time\\nseries into segments, and for each segment, detrending and normalizing the\\nprice return are required. These results show that the S&P500 price return can\\nachieve stationarity for the full 28-year period with a detrending window of 12\\nmonths and a constrained normalization window of 10 minutes. With truncated\\nsegments, a larger normalization window can be used to establish stationarity,\\nindicating that within the segment the data is more homogeneous. For Bitcoin\\nprice return, the segment with higher volatility presents stationarity with a\\nnormalization window of 60 minutes, whereas stationarity cannot be established\\nin other segments.   \n",
       "8                                                                                                                                                                                                                                                                                                                                  Proof-of-stake (PoS) blockchains require validators to lock their tokens as\\ncollateral, slashing these tokens if they are identified as protocol violators.\\nPoS chains have mostly been secured by their native tokens. However, using only\\nthe native token upper-bounds the value eligible for staking by the market\\ncapitalization of the native token. In contrast, the remote staking of another\\ncrypto asset from a provider chain provides an avenue to improve the consumer\\nchain's economic security. In this paper, we present the first known remote\\nstaking protocols with guaranteed optimal economic safety: whenever there is a\\nsafety violation on the consumer chain, at least one third of the provider's\\nstake securing the consumer chain is slashed. To achieve this goal for a broad\\nrange of provider and consumer chains, two independent contributions are made:\\n1) a remote unbonding protocol that ensures slashing before the stake is\\nunbonded on the provider chain if there is safety violation on the consumer\\nchain; 2) a protocol to slash stake even without smart contracts on the\\nprovider chain. The remote staking protocol is analyzed and implemented in the\\ncase where the provider chain is Bitcoin and the consumer chain is a Cosmos SDK\\nchain running the Tendermint consensus protocol.   \n",
       "9                                                                                                                                                                                                                                                                                                                                                Reducing financial risk is of paramount importance to investors, financial\\ninstitutions, and corporations. Since the pioneering contribution of Johnson\\n(1960), the optimal hedge ratio based on futures is regularly utilized. The\\ncurrent paper suggests an explicit and efficient method for testing the null\\nhypothesis of a symmetric optimal hedge ratio against an asymmetric alternative\\none within a multivariate setting. If the null is rejected, the position\\ndependent optimal hedge ratios can be estimated via the suggested model. This\\napproach is expected to enhance the accuracy of the implemented hedging\\nstrategies compared to the standard methods since it accounts for the fact that\\nthe source of risk depends on whether the investor is a buyer or a seller of\\nthe risky asset. An application is provided using spot and futures prices of\\nBitcoin. The results strongly support the view that the optimal hedge ratio for\\nthis cryptocurrency is position dependent. The investor that is long in Bitcoin\\nhas a much higher conditional optimal hedge ratio compared to the one that is\\nshort in the asset. The difference between the two conditional optimal hedge\\nratios is statistically significant, which has important repercussions for\\nimplementing risk management strategies.   \n",
       "\n",
       "                                             categories  \n",
       "0                                        [cs.CE, cs.LG]  \n",
       "1                                        [cs.CR, cs.ET]  \n",
       "2  [econ.GN, cs.CE, cs.CY, q-fin.CP, q-fin.EC, stat.ML]  \n",
       "3                                            [q-fin.TR]  \n",
       "4                                      [stat.AP, cs.CE]  \n",
       "5        [cs.SI, cs.CR, cs.DM, math.DS, physics.soc-ph]  \n",
       "6                   [q-fin.ST, econ.EM, physics.soc-ph]  \n",
       "7                        [q-fin.ST, cond-mat.stat-mech]  \n",
       "8                                               [cs.CR]  \n",
       "9                                   [q-fin.RM, econ.EM]  "
      ]
     },
     "execution_count": 172,
     "metadata": {},
     "output_type": "execute_result"
    }
   ],
   "source": [
    "pd.set_option(\"display.max_colwidth\",None)\n",
    "df = pd.DataFrame(papers)\n",
    "df.head(10)"
   ]
  },
  {
   "cell_type": "code",
   "execution_count": 173,
   "id": "f9ae396d-4688-4646-abe5-c213d2d3c352",
   "metadata": {},
   "outputs": [],
   "source": [
    "abstract = df['abstract'][0]\n"
   ]
  },
  {
   "cell_type": "code",
   "execution_count": 174,
   "id": "68bd3a13-75f6-480a-94c0-7e18b0713606",
   "metadata": {},
   "outputs": [],
   "source": [
    "from transformers import pipeline\n",
    "from transformers import AutoTokenizer\n",
    "# Load the tokenizer (same model name as the summarizer)\n",
    "tokenizer = AutoTokenizer.from_pretrained(\"facebook/bart-large-cnn\",clean_up_tokenization_spaces= True)"
   ]
  },
  {
   "cell_type": "code",
   "execution_count": 176,
   "id": "46575bf5-333d-4e82-9f7e-9cabe354b4eb",
   "metadata": {},
   "outputs": [],
   "source": [
    "summarizer = pipeline(\"summarization\",model=\"facebook/bart-large-cnn\", tokenizer=tokenizer)\n",
    "summarization_result = summarizer(abstract)\n",
    "#summarization_result[0]['summary_text']\n",
    "summary_text = summarization_result[0]['summary_text'].replace('\\xa0', ' ').strip()"
   ]
  },
  {
   "cell_type": "code",
   "execution_count": 177,
   "id": "e1c551ce-f533-4ae3-8852-14d8831abcec",
   "metadata": {},
   "outputs": [
    {
     "data": {
      "text/plain": [
       "'Cryptocoins (i.e., Bitcoin, Ether, Litecoin) are tradable digital assets. Major coin exchanges indicate trend correlations to advise for sells or buys. However, price correlations remain largely unexplored. We shed some light on the trend correlations across a large                variety of cryptocoins, by investigating their coin/price correlation trends.'"
      ]
     },
     "execution_count": 177,
     "metadata": {},
     "output_type": "execute_result"
    }
   ],
   "source": [
    "summary_text"
   ]
  },
  {
   "cell_type": "markdown",
   "id": "66d2df36-b94f-4a34-b781-9d38dfabe628",
   "metadata": {},
   "source": [
    "# Image Classification"
   ]
  },
  {
   "cell_type": "code",
   "execution_count": 159,
   "id": "b88a2c33-0234-4cbd-88e9-ff2c6f31794f",
   "metadata": {},
   "outputs": [],
   "source": [
    "# from transformers import pipeline\n",
    "\n",
    "# classifier = pipeline(\"image-classification\", model=\"google/vit-base-patch16-224\")\n",
    "# result = classifier(\"https://lima.vps.webdock.cloud/images/testimonials.jpg\")\n",
    "# print(result)\n"
   ]
  },
  {
   "cell_type": "code",
   "execution_count": null,
   "id": "12b481b7-519b-4ec4-b05e-8d905b3f279e",
   "metadata": {},
   "outputs": [],
   "source": []
  }
 ],
 "metadata": {
  "kernelspec": {
   "display_name": "Python 3 (ipykernel)",
   "language": "python",
   "name": "python3"
  },
  "language_info": {
   "codemirror_mode": {
    "name": "ipython",
    "version": 3
   },
   "file_extension": ".py",
   "mimetype": "text/x-python",
   "name": "python",
   "nbconvert_exporter": "python",
   "pygments_lexer": "ipython3",
   "version": "3.10.12"
  }
 },
 "nbformat": 4,
 "nbformat_minor": 5
}
